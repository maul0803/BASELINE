{
 "cells": [
  {
   "cell_type": "code",
   "execution_count": 1,
   "metadata": {
    "ExecuteTime": {
     "end_time": "2024-09-24T18:25:32.738221Z",
     "start_time": "2024-09-24T18:25:32.719884Z"
    }
   },
   "outputs": [
    {
     "name": "stdout",
     "output_type": "stream",
     "text": [
      "Start\n"
     ]
    },
    {
     "name": "stderr",
     "output_type": "stream",
     "text": [
      "2024-09-27 22:05:23.069869: I tensorflow/core/util/port.cc:153] oneDNN custom operations are on. You may see slightly different numerical results due to floating-point round-off errors from different computation orders. To turn them off, set the environment variable `TF_ENABLE_ONEDNN_OPTS=0`.\n",
      "2024-09-27 22:05:23.848428: E external/local_xla/xla/stream_executor/cuda/cuda_fft.cc:485] Unable to register cuFFT factory: Attempting to register factory for plugin cuFFT when one has already been registered\n",
      "2024-09-27 22:05:24.054460: E external/local_xla/xla/stream_executor/cuda/cuda_dnn.cc:8454] Unable to register cuDNN factory: Attempting to register factory for plugin cuDNN when one has already been registered\n",
      "2024-09-27 22:05:24.158807: E external/local_xla/xla/stream_executor/cuda/cuda_blas.cc:1452] Unable to register cuBLAS factory: Attempting to register factory for plugin cuBLAS when one has already been registered\n",
      "2024-09-27 22:05:24.963615: I tensorflow/core/platform/cpu_feature_guard.cc:210] This TensorFlow binary is optimized to use available CPU instructions in performance-critical operations.\n",
      "To enable the following instructions: AVX2 AVX512F AVX512_VNNI FMA, in other operations, rebuild TensorFlow with the appropriate compiler flags.\n",
      "2024-09-27 22:05:27.349072: W tensorflow/compiler/tf2tensorrt/utils/py_utils.cc:38] TF-TRT Warning: Could not find TensorRT\n"
     ]
    },
    {
     "name": "stdout",
     "output_type": "stream",
     "text": [
      "Device: cuda\n"
     ]
    }
   ],
   "source": [
    "print('Start')\n",
    "from transformers import BertTokenizerFast, BertForQuestionAnswering, Trainer, TrainingArguments, DistilBertForSequenceClassification\n",
    "from tqdm.notebook import tqdm\n",
    "from datasets import load_dataset, Dataset\n",
    "import torch\n",
    "import numpy as np  # Linear algebra\n",
    "import json  # To read json\n",
    "import pandas as pd\n",
    "from torch.utils.data import DataLoader\n",
    "from torch.optim import AdamW  # AdamW instead of Adam because it's better for SQuAD\n",
    "from collections import Counter\n",
    "import os\n",
    "from torch.utils.tensorboard import SummaryWriter  # For TensorBoard\n",
    "from transformers import AutoTokenizer\n",
    "device = torch.device('cuda' if torch.cuda.is_available() else 'cpu')\n",
    "print(\"Device:\", device)"
   ]
  },
  {
   "cell_type": "markdown",
   "metadata": {},
   "source": [
    "## Read a json file"
   ]
  },
  {
   "cell_type": "markdown",
   "metadata": {},
   "source": [
    "The dataset I used is the dev-v2 dataset. It is a json file. I didn't know how to read this file so I used a code from kaggle:  \n",
    "https://www.kaggle.com/code/sanjay11100/squad-stanford-q-a-json-to-pandas-dataframe"
   ]
  },
  {
   "cell_type": "code",
   "execution_count": 2,
   "metadata": {
    "ExecuteTime": {
     "end_time": "2024-09-24T18:25:32.783172Z",
     "start_time": "2024-09-24T18:25:32.770098Z"
    }
   },
   "outputs": [],
   "source": [
    "def squad_json_to_dataframe_dev(input_file_path, record_path = ['data','paragraphs','qas','answers'],\n",
    "                           verbose = 1):\n",
    "    \"\"\"\n",
    "    input_file_path: path to the squad json file.\n",
    "    record_path: path to deepest level in json file default value is\n",
    "    ['data','paragraphs','qas','answers']\n",
    "    verbose: 0 to suppress it default is 1\n",
    "    \"\"\"\n",
    "    if verbose:\n",
    "        print(\"Reading the json file\")    \n",
    "    file = json.loads(open(input_file_path).read())\n",
    "    if verbose:\n",
    "        print(\"processing...\")\n",
    "    # parsing different level's in the json file\n",
    "    m = pd.json_normalize(file, record_path[:-1] )\n",
    "    r = pd.json_normalize(file,record_path[:-2])\n",
    "    \n",
    "    #combining it into single dataframe\n",
    "    idx = np.repeat(r['context'].values, r.qas.str.len())\n",
    "    m['context'] = idx\n",
    "    main = m[['id','question','context','answers']].set_index('id').reset_index()\n",
    "    if verbose:\n",
    "        print(\"shape of the dataframe is {}\".format(main.shape))\n",
    "        print(\"Done\")\n",
    "    return main"
   ]
  },
  {
   "cell_type": "code",
   "execution_count": 3,
   "metadata": {
    "ExecuteTime": {
     "end_time": "2024-09-24T18:25:33.220382Z",
     "start_time": "2024-09-24T18:25:32.817318Z"
    }
   },
   "outputs": [
    {
     "name": "stdout",
     "output_type": "stream",
     "text": [
      "Reading the json file\n",
      "processing...\n"
     ]
    },
    {
     "name": "stdout",
     "output_type": "stream",
     "text": [
      "shape of the dataframe is (11873, 4)\n",
      "Done\n"
     ]
    },
    {
     "data": {
      "text/plain": [
       "Dataset({\n",
       "    features: ['id', 'question', 'context', 'answers'],\n",
       "    num_rows: 11873\n",
       "})"
      ]
     },
     "execution_count": 3,
     "metadata": {},
     "output_type": "execute_result"
    }
   ],
   "source": [
    "input_file_path = 'dev-v2.0.json'\n",
    "record_path = ['data','paragraphs','qas','answers']\n",
    "dataset = squad_json_to_dataframe_dev(input_file_path=input_file_path,record_path=record_path)\n",
    "dataset = Dataset.from_pandas(dataset)\n",
    "dataset"
   ]
  },
  {
   "cell_type": "markdown",
   "metadata": {},
   "source": [
    "## Tokenization"
   ]
  },
  {
   "cell_type": "markdown",
   "metadata": {},
   "source": [
    "The curent dataset can't be used for training. It must be tokenized before. I didn't know how to do it so I have used a code from CHATGPT that I have modidified.  \n",
    "To simplify the dataset, only the first answer for each question is kept."
   ]
  },
  {
   "cell_type": "code",
   "execution_count": 4,
   "metadata": {
    "ExecuteTime": {
     "end_time": "2024-09-24T18:25:41.033992Z",
     "start_time": "2024-09-24T18:25:33.254708Z"
    }
   },
   "outputs": [
    {
     "name": "stderr",
     "output_type": "stream",
     "text": [
      "/mnt/netapp2/Store_uni/home/ulc/cursos/curso341/mypython/lib/python3.10/site-packages/transformers/tokenization_utils_base.py:1601: FutureWarning: `clean_up_tokenization_spaces` was not set. It will be set to `True` by default. This behavior will be depracted in transformers v4.45, and will be then set to `False` by default. For more details check this issue: https://github.com/huggingface/transformers/issues/31884\n",
      "  warnings.warn(\n"
     ]
    },
    {
     "data": {
      "application/vnd.jupyter.widget-view+json": {
       "model_id": "1742acba6dd844e5a00cd31b603f9cb9",
       "version_major": 2,
       "version_minor": 0
      },
      "text/plain": [
       "Map:   0%|          | 0/11873 [00:00<?, ? examples/s]"
      ]
     },
     "metadata": {},
     "output_type": "display_data"
    },
    {
     "name": "stderr",
     "output_type": "stream",
     "text": [
      "/scratch/8719016/ipykernel_2765495/1811549941.py:51: UserWarning: To copy construct from a tensor, it is recommended to use sourceTensor.clone().detach() or sourceTensor.clone().detach().requires_grad_(True), rather than torch.tensor(sourceTensor).\n",
      "  inputs[column] = torch.tensor(inputs[column])\n"
     ]
    }
   ],
   "source": [
    "model_name = \"bert-base-cased\"\n",
    "tokenizer = AutoTokenizer.from_pretrained(model_name)\n",
    "#CHATGPT\n",
    "def preprocess_function(examples):\n",
    "    questions = examples['question']\n",
    "    contexts = examples['context']\n",
    "    answers = examples['answers']\n",
    "    \n",
    "    inputs = tokenizer(questions, contexts, max_length=384, truncation=True, padding='max_length', return_offsets_mapping=True)\n",
    "    \n",
    "    start_positions = []\n",
    "    end_positions = []\n",
    "    \n",
    "    for i in range(len(questions)):\n",
    "        if not answers[i]:  # Si pas de réponse\n",
    "            start_positions.append(0)  # Valeur par défaut\n",
    "            end_positions.append(0)    # Valeur par défaut\n",
    "            continue\n",
    "        \n",
    "        # Only the firs answer is used\n",
    "        first_answer = answers[i][0]['text']\n",
    "        first_answer_start = answers[i][0]['answer_start']\n",
    "        \n",
    "        offsets = inputs['offset_mapping'][i]\n",
    "\n",
    "        start_token = None\n",
    "        end_token = None\n",
    "        for idx, (start, end) in enumerate(offsets):\n",
    "            if start <= first_answer_start < end:\n",
    "                start_token = idx\n",
    "            if start < first_answer_start + len(first_answer) <= end:\n",
    "                end_token = idx\n",
    "                break\n",
    "        \n",
    "        if start_token is not None and end_token is not None:\n",
    "            start_positions.append(start_token)\n",
    "            end_positions.append(end_token)\n",
    "        else:\n",
    "            start_positions.append(-1)  # Default value\n",
    "            end_positions.append(-1)    # Default value\n",
    "\n",
    "\n",
    "    inputs.pop('offset_mapping') #offset_mapping is not necessary to train the model\n",
    "    \n",
    "    # Converting everything into tensors \n",
    "    inputs.update({\n",
    "        'start_positions': torch.tensor(start_positions),\n",
    "        'end_positions': torch.tensor(end_positions)\n",
    "    })\n",
    "    for column in inputs.keys():\n",
    "        inputs[column] = torch.tensor(inputs[column])\n",
    "\n",
    "    \n",
    "\n",
    "    return inputs\n",
    "\n",
    "tokenized_dataset = dataset.map(preprocess_function, batched=True, remove_columns=['id', 'question', 'context', 'answers'])\n",
    "tokenized_dataset = tokenized_dataset.select(range(4000))#Decrease the size of the dataset to have a longer training"
   ]
  },
  {
   "cell_type": "markdown",
   "metadata": {},
   "source": [
    "Everything in the tokenized dataset should be a tensor otherwise the training won't be possible."
   ]
  },
  {
   "cell_type": "code",
   "execution_count": 5,
   "metadata": {},
   "outputs": [
    {
     "name": "stdout",
     "output_type": "stream",
     "text": [
      "input_ids <class 'list'>\n",
      "token_type_ids <class 'list'>\n",
      "attention_mask <class 'list'>\n",
      "start_positions <class 'list'>\n",
      "end_positions <class 'list'>\n"
     ]
    }
   ],
   "source": [
    "for column in ['input_ids', 'token_type_ids', 'attention_mask', 'start_positions', 'end_positions']:\n",
    "    print(column, type(tokenized_dataset[column]))  # Devrait être torch.Tensor"
   ]
  },
  {
   "cell_type": "markdown",
   "metadata": {},
   "source": [
    "It seems that dataset.map didn't change the type of the dataset.  \n",
    "To change the format I have used set_format."
   ]
  },
  {
   "cell_type": "code",
   "execution_count": 6,
   "metadata": {},
   "outputs": [],
   "source": [
    "tokenized_dataset.set_format(type='torch')"
   ]
  },
  {
   "cell_type": "code",
   "execution_count": 7,
   "metadata": {
    "ExecuteTime": {
     "end_time": "2024-09-24T18:25:41.080829Z",
     "start_time": "2024-09-24T18:25:41.068299Z"
    }
   },
   "outputs": [
    {
     "name": "stdout",
     "output_type": "stream",
     "text": [
      "input_ids <class 'torch.Tensor'>\n",
      "token_type_ids <class 'torch.Tensor'>\n",
      "attention_mask <class 'torch.Tensor'>\n",
      "start_positions <class 'torch.Tensor'>\n",
      "end_positions <class 'torch.Tensor'>\n"
     ]
    }
   ],
   "source": [
    "for column in ['input_ids', 'token_type_ids', 'attention_mask', 'start_positions', 'end_positions']:\n",
    "    print(column, type(tokenized_dataset[column]))  # Devrait être torch.Tensor"
   ]
  },
  {
   "cell_type": "code",
   "execution_count": 8,
   "metadata": {},
   "outputs": [],
   "source": [
    "splited_tokenized_dataset = tokenized_dataset.train_test_split(test_size=0.2, seed = 42)\n",
    "tokenized_dataset_train = splited_tokenized_dataset['train']\n",
    "tokenized_dataset_validation = splited_tokenized_dataset['test']"
   ]
  },
  {
   "cell_type": "markdown",
   "metadata": {},
   "source": [
    "## Dataloader"
   ]
  },
  {
   "cell_type": "code",
   "execution_count": 9,
   "metadata": {
    "ExecuteTime": {
     "end_time": "2024-09-24T18:25:41.126742Z",
     "start_time": "2024-09-24T18:25:41.113518Z"
    }
   },
   "outputs": [],
   "source": [
    "train_dataloader = DataLoader(dataset=tokenized_dataset_train, batch_size=16, shuffle=True)\n",
    "validation_dataloader = DataLoader(dataset=tokenized_dataset_validation, batch_size=16, shuffle=True)"
   ]
  },
  {
   "cell_type": "markdown",
   "metadata": {},
   "source": [
    "## Model and Optimizer"
   ]
  },
  {
   "cell_type": "code",
   "execution_count": 10,
   "metadata": {},
   "outputs": [
    {
     "name": "stderr",
     "output_type": "stream",
     "text": [
      "Some weights of BertForQuestionAnswering were not initialized from the model checkpoint at bert-base-cased and are newly initialized: ['qa_outputs.bias', 'qa_outputs.weight']\n",
      "You should probably TRAIN this model on a down-stream task to be able to use it for predictions and inference.\n"
     ]
    }
   ],
   "source": [
    "model = BertForQuestionAnswering.from_pretrained(model_name)\n",
    "model.to(device)\n",
    "optim = AdamW(model.parameters(),lr=5e-5)"
   ]
  },
  {
   "cell_type": "markdown",
   "metadata": {},
   "source": [
    "The model choosen for this task is bert base cased.  \n",
    "The optimizer is AdamW which is similar the the usual Adam optimizer but with weight decay. It seems that this kind of optimizer is better for transformer models.  \n",
    "The learning rate at the begning of the training is 5e-5 which is the usual learning rate for transformsers."
   ]
  },
  {
   "cell_type": "markdown",
   "metadata": {},
   "source": [
    "## Loss and Metrics"
   ]
  },
  {
   "cell_type": "markdown",
   "metadata": {},
   "source": [
    "The default loss for this model is the binary crossentropy loss.  \n",
    "To have something else from the loss to display on tensorboard I used the f1_score and a exact_match score.  \n",
    "The f1_score wasn't imported from scikit_learn because to use it I had to use numpy arrays.  \n",
    "However, to get numpy arrays it seems that it is necessary to transfer my results from the GPU to the CPU."
   ]
  },
  {
   "cell_type": "code",
   "execution_count": 11,
   "metadata": {},
   "outputs": [],
   "source": [
    "# CHATGPT for the implementation of the metric\n",
    "def f1_score(pred_toks, true_toks):\n",
    "    \"\"\"\n",
    "    Function to calculate F1-score\n",
    "    \"\"\"\n",
    "    common = Counter(pred_toks) & Counter(true_toks)  # Find common tokens\n",
    "    num_common = sum(common.values())  # Count how many tokens are in common\n",
    "    if num_common == 0:\n",
    "        return 0\n",
    "    precision = num_common / len(pred_toks)\n",
    "    recall = num_common / len(true_toks)\n",
    "    f1 = 2 * (precision * recall) / (precision + recall)\n",
    "    return f1"
   ]
  },
  {
   "cell_type": "markdown",
   "metadata": {},
   "source": [
    "## Checkpoint"
   ]
  },
  {
   "cell_type": "code",
   "execution_count": 12,
   "metadata": {},
   "outputs": [],
   "source": [
    "def save_checkpoint(model, optimizer, epoch, loss, checkpoint_dir):\n",
    "    \"\"\"\n",
    "    Creates checkpoint\n",
    "    \"\"\"\n",
    "    checkpoint_path = os.path.join(checkpoint_dir, f'checkpoint_epoch_{epoch+1}.pt')\n",
    "    torch.save({\n",
    "        'epoch': epoch + 1,\n",
    "        'model_state_dict': model.state_dict(),\n",
    "        'optimizer_state_dict': optimizer.state_dict(),\n",
    "        'loss': loss\n",
    "    }, checkpoint_path)\n",
    "    print(f\"Checkpoint saved: {checkpoint_path}\")\n",
    "checkpoint_dir = \"./checkpoints\"  # Directory where checkpoints will be saved\n",
    "os.makedirs(checkpoint_dir, exist_ok=True)"
   ]
  },
  {
   "cell_type": "markdown",
   "metadata": {},
   "source": [
    "## Training"
   ]
  },
  {
   "cell_type": "code",
   "execution_count": 13,
   "metadata": {},
   "outputs": [],
   "source": [
    "def compute_predictions_and_metrics(outputs, input_ids, start_positions, end_positions):\n",
    "    \"\"\"\n",
    "    Computes start and end predictions and calculates F1 score.\n",
    "    \"\"\"    \n",
    "    start_preds = torch.argmax(outputs.start_logits, dim=1)\n",
    "    end_preds = torch.argmax(outputs.end_logits, dim=1)\n",
    "\n",
    "    total_f1 = 0\n",
    "    batch_size = input_ids.size(0)\n",
    "\n",
    "    for i in range(batch_size):\n",
    "        # F1 Score for the predicted vs true tokens\n",
    "        pred_tokens = input_ids[i][start_preds[i]:end_preds[i] + 1].tolist()\n",
    "        true_tokens = input_ids[i][start_positions[i]:end_positions[i] + 1].tolist()\n",
    "        total_f1 += f1_score(pred_tokens, true_tokens)\n",
    "\n",
    "    return total_f1, batch_size"
   ]
  },
  {
   "cell_type": "code",
   "execution_count": 14,
   "metadata": {},
   "outputs": [
    {
     "name": "stdout",
     "output_type": "stream",
     "text": [
      "Epoch 1/10\n"
     ]
    },
    {
     "data": {
      "application/vnd.jupyter.widget-view+json": {
       "model_id": "cef1ea1823e8449c8d24845b0c74d21d",
       "version_major": 2,
       "version_minor": 0
      },
      "text/plain": [
       "Training:   0%|          | 0/200 [00:00<?, ?it/s]"
      ]
     },
     "metadata": {},
     "output_type": "display_data"
    },
    {
     "data": {
      "application/vnd.jupyter.widget-view+json": {
       "model_id": "37c98dbcaf204030b26090235b0503b1",
       "version_major": 2,
       "version_minor": 0
      },
      "text/plain": [
       "Validating:   0%|          | 0/50 [00:00<?, ?it/s]"
      ]
     },
     "metadata": {},
     "output_type": "display_data"
    },
    {
     "name": "stdout",
     "output_type": "stream",
     "text": [
      "Loss at epoch 1: Train 2.7326 | Validation 2.1256\n",
      "F1 Score at epoch 1: Train 0.4663 | Validation 0.3571\n",
      "Epoch 2/10\n"
     ]
    },
    {
     "data": {
      "application/vnd.jupyter.widget-view+json": {
       "model_id": "aa5bed2a9d4d4b728f1c7c86f6334093",
       "version_major": 2,
       "version_minor": 0
      },
      "text/plain": [
       "Training:   0%|          | 0/200 [00:00<?, ?it/s]"
      ]
     },
     "metadata": {},
     "output_type": "display_data"
    },
    {
     "data": {
      "application/vnd.jupyter.widget-view+json": {
       "model_id": "d72faf43eb8e4983ac235da60dfd5e23",
       "version_major": 2,
       "version_minor": 0
      },
      "text/plain": [
       "Validating:   0%|          | 0/50 [00:00<?, ?it/s]"
      ]
     },
     "metadata": {},
     "output_type": "display_data"
    },
    {
     "name": "stdout",
     "output_type": "stream",
     "text": [
      "Loss at epoch 2: Train 1.7469 | Validation 1.8917\n",
      "F1 Score at epoch 2: Train 0.4256 | Validation 0.3914\n",
      "Checkpoint saved: ./checkpoints/checkpoint_epoch_2.pt\n",
      "Epoch 3/10\n"
     ]
    },
    {
     "data": {
      "application/vnd.jupyter.widget-view+json": {
       "model_id": "4c4b4eb0de2045218c497ae5c7175f72",
       "version_major": 2,
       "version_minor": 0
      },
      "text/plain": [
       "Training:   0%|          | 0/200 [00:00<?, ?it/s]"
      ]
     },
     "metadata": {},
     "output_type": "display_data"
    },
    {
     "data": {
      "application/vnd.jupyter.widget-view+json": {
       "model_id": "64910f50da774d90b0064f9660e534a6",
       "version_major": 2,
       "version_minor": 0
      },
      "text/plain": [
       "Validating:   0%|          | 0/50 [00:00<?, ?it/s]"
      ]
     },
     "metadata": {},
     "output_type": "display_data"
    },
    {
     "name": "stdout",
     "output_type": "stream",
     "text": [
      "Loss at epoch 3: Train 1.1111 | Validation 2.0680\n",
      "F1 Score at epoch 3: Train 0.5515 | Validation 0.3542\n",
      "Epoch 4/10\n"
     ]
    },
    {
     "data": {
      "application/vnd.jupyter.widget-view+json": {
       "model_id": "62653bf59d804a6dafab0c4ecd067cfe",
       "version_major": 2,
       "version_minor": 0
      },
      "text/plain": [
       "Training:   0%|          | 0/200 [00:00<?, ?it/s]"
      ]
     },
     "metadata": {},
     "output_type": "display_data"
    },
    {
     "data": {
      "application/vnd.jupyter.widget-view+json": {
       "model_id": "4920c8ea1d1a42a180b364d75ebd6a0f",
       "version_major": 2,
       "version_minor": 0
      },
      "text/plain": [
       "Validating:   0%|          | 0/50 [00:00<?, ?it/s]"
      ]
     },
     "metadata": {},
     "output_type": "display_data"
    },
    {
     "name": "stdout",
     "output_type": "stream",
     "text": [
      "Loss at epoch 4: Train 0.7788 | Validation 2.4999\n",
      "F1 Score at epoch 4: Train 0.6585 | Validation 0.3782\n",
      "Checkpoint saved: ./checkpoints/checkpoint_epoch_4.pt\n",
      "Epoch 5/10\n"
     ]
    },
    {
     "data": {
      "application/vnd.jupyter.widget-view+json": {
       "model_id": "2ffbc116604b42028cb5d47b6da259e1",
       "version_major": 2,
       "version_minor": 0
      },
      "text/plain": [
       "Training:   0%|          | 0/200 [00:00<?, ?it/s]"
      ]
     },
     "metadata": {},
     "output_type": "display_data"
    },
    {
     "data": {
      "application/vnd.jupyter.widget-view+json": {
       "model_id": "027e290bf00c49e6a30e3c369127b004",
       "version_major": 2,
       "version_minor": 0
      },
      "text/plain": [
       "Validating:   0%|          | 0/50 [00:00<?, ?it/s]"
      ]
     },
     "metadata": {},
     "output_type": "display_data"
    },
    {
     "name": "stdout",
     "output_type": "stream",
     "text": [
      "Loss at epoch 5: Train 0.5527 | Validation 2.7790\n",
      "F1 Score at epoch 5: Train 0.7608 | Validation 0.3741\n",
      "Epoch 6/10\n"
     ]
    },
    {
     "data": {
      "application/vnd.jupyter.widget-view+json": {
       "model_id": "e65b8de3cd704a88a5b7b1c7dfd4771b",
       "version_major": 2,
       "version_minor": 0
      },
      "text/plain": [
       "Training:   0%|          | 0/200 [00:00<?, ?it/s]"
      ]
     },
     "metadata": {},
     "output_type": "display_data"
    },
    {
     "data": {
      "application/vnd.jupyter.widget-view+json": {
       "model_id": "5ff88cf77989415c94abf8ac2bf537aa",
       "version_major": 2,
       "version_minor": 0
      },
      "text/plain": [
       "Validating:   0%|          | 0/50 [00:00<?, ?it/s]"
      ]
     },
     "metadata": {},
     "output_type": "display_data"
    },
    {
     "name": "stdout",
     "output_type": "stream",
     "text": [
      "Loss at epoch 6: Train 0.4044 | Validation 2.9695\n",
      "F1 Score at epoch 6: Train 0.8161 | Validation 0.3897\n",
      "Checkpoint saved: ./checkpoints/checkpoint_epoch_6.pt\n",
      "Epoch 7/10\n"
     ]
    },
    {
     "data": {
      "application/vnd.jupyter.widget-view+json": {
       "model_id": "33827d18ed7c4e10b03fafbdde20e475",
       "version_major": 2,
       "version_minor": 0
      },
      "text/plain": [
       "Training:   0%|          | 0/200 [00:00<?, ?it/s]"
      ]
     },
     "metadata": {},
     "output_type": "display_data"
    },
    {
     "data": {
      "application/vnd.jupyter.widget-view+json": {
       "model_id": "c59c3d6cfe4442989eb68525e161f3fc",
       "version_major": 2,
       "version_minor": 0
      },
      "text/plain": [
       "Validating:   0%|          | 0/50 [00:00<?, ?it/s]"
      ]
     },
     "metadata": {},
     "output_type": "display_data"
    },
    {
     "name": "stdout",
     "output_type": "stream",
     "text": [
      "Loss at epoch 7: Train 0.3024 | Validation 3.1862\n",
      "F1 Score at epoch 7: Train 0.8714 | Validation 0.4051\n",
      "Epoch 8/10\n"
     ]
    },
    {
     "data": {
      "application/vnd.jupyter.widget-view+json": {
       "model_id": "62e95e2799cf4866aa4fdb86a90a28a6",
       "version_major": 2,
       "version_minor": 0
      },
      "text/plain": [
       "Training:   0%|          | 0/200 [00:00<?, ?it/s]"
      ]
     },
     "metadata": {},
     "output_type": "display_data"
    },
    {
     "data": {
      "application/vnd.jupyter.widget-view+json": {
       "model_id": "590bcb9f808d4b64a3e39b8f1dad5378",
       "version_major": 2,
       "version_minor": 0
      },
      "text/plain": [
       "Validating:   0%|          | 0/50 [00:00<?, ?it/s]"
      ]
     },
     "metadata": {},
     "output_type": "display_data"
    },
    {
     "name": "stdout",
     "output_type": "stream",
     "text": [
      "Loss at epoch 8: Train 0.2594 | Validation 3.4759\n",
      "F1 Score at epoch 8: Train 0.8874 | Validation 0.3972\n",
      "Checkpoint saved: ./checkpoints/checkpoint_epoch_8.pt\n",
      "Epoch 9/10\n"
     ]
    },
    {
     "data": {
      "application/vnd.jupyter.widget-view+json": {
       "model_id": "3ed8fa48ca7f40288ae1032272c948da",
       "version_major": 2,
       "version_minor": 0
      },
      "text/plain": [
       "Training:   0%|          | 0/200 [00:00<?, ?it/s]"
      ]
     },
     "metadata": {},
     "output_type": "display_data"
    },
    {
     "data": {
      "application/vnd.jupyter.widget-view+json": {
       "model_id": "43922ab933634296896a05e8eba31ebe",
       "version_major": 2,
       "version_minor": 0
      },
      "text/plain": [
       "Validating:   0%|          | 0/50 [00:00<?, ?it/s]"
      ]
     },
     "metadata": {},
     "output_type": "display_data"
    },
    {
     "name": "stdout",
     "output_type": "stream",
     "text": [
      "Loss at epoch 9: Train 0.2041 | Validation 3.4785\n",
      "F1 Score at epoch 9: Train 0.9061 | Validation 0.4151\n",
      "Epoch 10/10\n"
     ]
    },
    {
     "data": {
      "application/vnd.jupyter.widget-view+json": {
       "model_id": "f7285fe106b04356a572a3669570d4ed",
       "version_major": 2,
       "version_minor": 0
      },
      "text/plain": [
       "Training:   0%|          | 0/200 [00:00<?, ?it/s]"
      ]
     },
     "metadata": {},
     "output_type": "display_data"
    },
    {
     "data": {
      "application/vnd.jupyter.widget-view+json": {
       "model_id": "8d2ef65df3034e0085821f39edd399c8",
       "version_major": 2,
       "version_minor": 0
      },
      "text/plain": [
       "Validating:   0%|          | 0/50 [00:00<?, ?it/s]"
      ]
     },
     "metadata": {},
     "output_type": "display_data"
    },
    {
     "name": "stdout",
     "output_type": "stream",
     "text": [
      "Loss at epoch 10: Train 0.1853 | Validation 3.8786\n",
      "F1 Score at epoch 10: Train 0.9208 | Validation 0.4150\n",
      "Checkpoint saved: ./checkpoints/checkpoint_epoch_10.pt\n",
      "Training completed.\n"
     ]
    }
   ],
   "source": [
    "# TensorBoard setup: log directory\n",
    "log_dir = \"./logs_exclusive\"\n",
    "writer = SummaryWriter(log_dir=log_dir)\n",
    "\n",
    "# Number of training epochs\n",
    "epochs = 10\n",
    "# Create a checkpoint every 2 epochs\n",
    "save_checkpoint_every = 2\n",
    "\n",
    "for epoch in range(epochs):\n",
    "    print(f\"Epoch {epoch + 1}/{epochs}\")\n",
    "    model.train()\n",
    "\n",
    "    total_loss_train = 0\n",
    "    total_f1_train = 0\n",
    "    num_questions_train = 0\n",
    "\n",
    "    total_loss_validation = 0\n",
    "    total_f1_validation = 0\n",
    "    num_questions_validation = 0\n",
    "\n",
    "    # Training Loop\n",
    "    for batch in tqdm(train_dataloader, desc=\"Training\"):\n",
    "        input_ids = batch['input_ids'].to(device)\n",
    "        attention_mask = batch['attention_mask'].to(device)\n",
    "        start_positions = batch['start_positions'].to(device)\n",
    "        end_positions = batch['end_positions'].to(device)\n",
    "\n",
    "        optim.zero_grad()\n",
    "\n",
    "        # Forward pass\n",
    "        outputs = model(input_ids, attention_mask=attention_mask,\n",
    "                        start_positions=start_positions, end_positions=end_positions)\n",
    "        # Loss\n",
    "        loss = outputs.loss\n",
    "        total_loss_train += loss.item()\n",
    "\n",
    "        # Backward pass and weight update\n",
    "        loss.backward()\n",
    "        optim.step()\n",
    "\n",
    "        # Metric\n",
    "        f1_batch, batch_size = compute_predictions_and_metrics(outputs, input_ids, start_positions, end_positions)\n",
    "        total_f1_train += f1_batch\n",
    "        num_questions_train += batch_size\n",
    "\n",
    "\n",
    "    # Validation Loop\n",
    "    model.eval()\n",
    "    with torch.no_grad():\n",
    "        for batch in tqdm(validation_dataloader, desc=\"Validating\"):\n",
    "            input_ids = batch['input_ids'].to(device)\n",
    "            attention_mask = batch['attention_mask'].to(device)\n",
    "            start_positions = batch['start_positions'].to(device)\n",
    "            end_positions = batch['end_positions'].to(device)\n",
    "\n",
    "            outputs = model(input_ids, attention_mask=attention_mask,\n",
    "                            start_positions=start_positions, end_positions=end_positions)\n",
    "            # Loss\n",
    "            loss = outputs.loss\n",
    "            total_loss_validation += loss.item()\n",
    "            # Metric\n",
    "            f1_batch, batch_size = compute_predictions_and_metrics(outputs, input_ids, start_positions, end_positions)\n",
    "            total_f1_validation += f1_batch\n",
    "            num_questions_validation += batch_size\n",
    "\n",
    "    # Calculate average loss and metrics for the training epoch\n",
    "    avg_loss_train = total_loss_train / len(train_dataloader)\n",
    "    avg_f1_train = total_f1_train / num_questions_train\n",
    "    avg_loss_validation = total_loss_validation / len(validation_dataloader)\n",
    "    avg_f1_validation = total_f1_validation / num_questions_validation\n",
    "\n",
    "    # Print out training metrics for the epoch\n",
    "    print(f\"Loss at epoch {epoch + 1}: Train {avg_loss_train:.4f} | Validation {avg_loss_validation:.4f}\")\n",
    "    print(f\"F1 Score at epoch {epoch + 1}: Train {avg_f1_train:.4f} | Validation {avg_f1_validation:.4f}\")\n",
    "\n",
    "    # Log training metrics to TensorBoard\n",
    "    writer.add_scalar(\"Loss/Train\", avg_loss_train, epoch)\n",
    "    writer.add_scalar(\"Loss/Validation\", avg_loss_validation, epoch)\n",
    "    writer.add_scalar(\"Metrics/F1_Score/Train\", avg_f1_train, epoch)\n",
    "    writer.add_scalar(\"Metrics/F1_Score/Validation\", avg_f1_validation, epoch)\n",
    "\n",
    "\n",
    "    # Save a checkpoint every 'save_checkpoint_every' epochs\n",
    "    if (epoch + 1) % save_checkpoint_every == 0:\n",
    "        save_checkpoint(model, optim, epoch, avg_loss_validation, checkpoint_dir)\n",
    "\n",
    "# Close the TensorBoard writer\n",
    "writer.close()\n",
    "\n",
    "print('Training completed.')"
   ]
  }
 ],
 "metadata": {
  "kernelspec": {
   "display_name": "mypython",
   "language": "python",
   "name": "mypython"
  }
 },
 "nbformat": 4,
 "nbformat_minor": 4
}
